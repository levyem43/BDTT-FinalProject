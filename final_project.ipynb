{
 "cells": [
  {
   "cell_type": "code",
   "execution_count": 12,
   "metadata": {},
   "outputs": [],
   "source": [
    "# pip install pandas"
   ]
  },
  {
   "cell_type": "code",
   "execution_count": 13,
   "metadata": {},
   "outputs": [],
   "source": [
    "# pip install pymongo"
   ]
  },
  {
   "cell_type": "code",
   "execution_count": 14,
   "metadata": {},
   "outputs": [
    {
     "name": "stdout",
     "output_type": "stream",
     "text": [
      "There are 558837 instances\n"
     ]
    }
   ],
   "source": [
    "import pandas as pd\n",
    "import json\n",
    "\n",
    "import pymongo\n",
    "import sys\n",
    "\n",
    "from secrets1 import CLIENT_USERNAME, CLIENT_PASSWORD\n",
    "\n",
    "dataset = pd.read_csv(\"car_prices.csv\")\n",
    "print(\"There are\",dataset.shape[0],\"instances\")"
   ]
  },
  {
   "cell_type": "code",
   "execution_count": 15,
   "metadata": {},
   "outputs": [
    {
     "name": "stderr",
     "output_type": "stream",
     "text": [
      "C:\\Users\\Emerson\\AppData\\Local\\Temp\\ipykernel_29228\\1887482300.py:1: FutureWarning: Downcasting object dtype arrays on .fillna, .ffill, .bfill is deprecated and will change in a future version. Call result.infer_objects(copy=False) instead. To opt-in to the future behavior, set `pd.set_option('future.no_silent_downcasting', True)`\n",
      "  dataset['is_digit']= dataset['saledate'].str.isdigit().fillna(False)\n"
     ]
    }
   ],
   "source": [
    "dataset['is_digit']= dataset['saledate'].str.isdigit().fillna(False)\n",
    "dataset=dataset[dataset['is_digit']==False]\n",
    "dataset=dataset.drop('is_digit', axis=1)"
   ]
  },
  {
   "cell_type": "code",
   "execution_count": 16,
   "metadata": {},
   "outputs": [
    {
     "name": "stderr",
     "output_type": "stream",
     "text": [
      "C:\\Users\\Emerson\\AppData\\Local\\Temp\\ipykernel_29228\\282653654.py:1: UserWarning: Could not infer format, so each element will be parsed individually, falling back to `dateutil`. To ensure parsing is consistent and as-expected, please specify a format.\n",
      "  dataset['saledate']=pd.to_datetime(dataset['saledate'])\n",
      "C:\\Users\\Emerson\\AppData\\Local\\Temp\\ipykernel_29228\\282653654.py:1: FutureWarning: In a future version of pandas, parsing datetimes with mixed time zones will raise an error unless `utc=True`. Please specify `utc=True` to opt in to the new behaviour and silence this warning. To create a `Series` with mixed offsets and `object` dtype, please use `apply` and `datetime.datetime.strptime`\n",
      "  dataset['saledate']=pd.to_datetime(dataset['saledate'])\n"
     ]
    }
   ],
   "source": [
    "dataset['saledate']=pd.to_datetime(dataset['saledate'])\n",
    "dataset['salemonth_str']=dataset['saledate'].astype('str').str[:10]\n",
    "dataset['salemonth']=pd.to_datetime(dataset['salemonth_str']).dt.strftime('%Y-%m')\n",
    "dataset=dataset.drop('salemonth_str', axis=1)"
   ]
  },
  {
   "cell_type": "code",
   "execution_count": 17,
   "metadata": {},
   "outputs": [],
   "source": [
    "dataset['state'] = dataset['state'].apply(lambda x: x.upper())"
   ]
  },
  {
   "cell_type": "code",
   "execution_count": 18,
   "metadata": {},
   "outputs": [
    {
     "name": "stdout",
     "output_type": "stream",
     "text": [
      "558811\n"
     ]
    }
   ],
   "source": [
    "json_data = dataset.to_json(orient='records')\n",
    "with open('json_data.json', 'w') as json_file:\n",
    "    json_file.write(json_data)\n",
    "\n",
    "item_dict = json.loads(json_data)\n",
    "print(len(item_dict))"
   ]
  },
  {
   "cell_type": "code",
   "execution_count": 19,
   "metadata": {},
   "outputs": [
    {
     "name": "stdout",
     "output_type": "stream",
     "text": [
      "I inserted 558811 documents.\n",
      "\n",
      "\n"
     ]
    }
   ],
   "source": [
    "try:\n",
    "    client = pymongo.MongoClient(\"mongodb+srv://\"+ CLIENT_USERNAME \n",
    "                                + \":\" + CLIENT_PASSWORD + \"@bdtt-finalproject.75mthdj.mongodb.net/\")\n",
    "\n",
    "# return a friendly error if a URI error is thrown \n",
    "except pymongo.errors.ConfigurationError:\n",
    "    print(\"An Invalid URI host error was received. Is your Atlas host name correct in your connection string?\")\n",
    "    sys.exit(1)\n",
    "\n",
    "db = client.myDatabase\n",
    "my_collection = db['car_sale_info']\n",
    "\n",
    "# drop the collection in case it already exists\n",
    "try:\n",
    "    my_collection.drop()  \n",
    "\n",
    "# return a friendly error if an authentication error is thrown\n",
    "except pymongo.errors.OperationFailure:\n",
    "    print(\"An authentication error was received. Are your username and password correct in your connection string?\")\n",
    "    sys.exit(1)\n",
    "\n",
    "try: \n",
    "    result = my_collection.insert_many(item_dict)\n",
    "\n",
    "# return a friendly error if the operation fails\n",
    "except pymongo.errors.OperationFailure:\n",
    "    print(\"An authentication error was received. Are you sure your database user is authorized to perform write operations?\")\n",
    "    sys.exit(1)\n",
    "else:\n",
    "    inserted_count = len(result.inserted_ids)\n",
    "    print(\"I inserted %d documents.\" % inserted_count)\n"
   ]
  }
 ],
 "metadata": {
  "kernelspec": {
   "display_name": "Python 3",
   "language": "python",
   "name": "python3"
  },
  "language_info": {
   "codemirror_mode": {
    "name": "ipython",
    "version": 3
   },
   "file_extension": ".py",
   "mimetype": "text/x-python",
   "name": "python",
   "nbconvert_exporter": "python",
   "pygments_lexer": "ipython3",
   "version": "3.12.1"
  }
 },
 "nbformat": 4,
 "nbformat_minor": 2
}
